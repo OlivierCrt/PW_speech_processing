{
 "cells": [
  {
   "cell_type": "markdown",
   "id": "c8a6c4db",
   "metadata": {},
   "source": [
    "# TP1 : Prétraitement acoustique, Analyse en Composantes Principales et Classification par lois gaussiennes\n",
    "\n",
    "NOM - PRÉNOM : \n"
   ]
  },
  {
   "cell_type": "code",
   "execution_count": null,
   "id": "37110db0",
   "metadata": {},
   "outputs": [],
   "source": [
    "import numpy as np\n",
    "import scipy.io.wavfile as wav\n",
    "from canaux24 import canaux\n",
    "from scipy import linalg\n",
    "import matplotlib.pyplot as plt\n",
    "import pickle"
   ]
  },
  {
   "cell_type": "code",
   "execution_count": null,
   "id": "cfd7a333-bd17-43ca-a0d4-6454cd82e943",
   "metadata": {},
   "outputs": [],
   "source": [
    "        ##################################################\n",
    "        ### PARTIE 1 : Réduction de la dimensionnalité ###\n",
    "        ##################################################"
   ]
  },
  {
   "cell_type": "code",
   "execution_count": null,
   "id": "18e33622",
   "metadata": {},
   "outputs": [],
   "source": [
    "# Définition de la fonction lecture \n",
    "def lecture(classe, NbFichiers):\n",
    "    # Initialisation\n",
    "    obs = # à compléter\n",
    "\n",
    "    # Traitement de chaque fichier\n",
    "    for NoFichier in range(NbFichiers):\n",
    "\n",
    "        # Création du nom du fichier\n",
    "        # à compléter\n",
    "        \n",
    "        # Lecture du fichier son\n",
    "        # à compléter\n",
    "        \n",
    "        # Conversion en float (optionnel)\n",
    "        # à compléter\n",
    "        \n",
    "        # Calcul des 24 canaux d'énergie : vecteur de 24 dimensions\n",
    "        # à compléter\n",
    "        \n",
    "        # Stockage dans une matrice de taille NbFichier x 24\n",
    "        # à compléter\n",
    "        \n",
    "    return(obs)"
   ]
  },
  {
   "cell_type": "code",
   "execution_count": null,
   "id": "fd845c3f",
   "metadata": {},
   "outputs": [],
   "source": [
    "# Lecture des 20 fichiers pour chacune des classes\n",
    "obsaa = lecture('aa', 20)\n",
    "obsuu = lecture('uu', 20)\n",
    "obsii = lecture('ii', 20)"
   ]
  },
  {
   "cell_type": "code",
   "execution_count": null,
   "id": "eb9185bb-8a51-4a9f-8a40-5ae304d2f237",
   "metadata": {},
   "outputs": [],
   "source": [
    "print(obsaa)"
   ]
  },
  {
   "cell_type": "code",
   "execution_count": null,
   "id": "f1d98c55",
   "metadata": {
    "scrolled": true
   },
   "outputs": [],
   "source": [
    "# Créer une matrice contenant l'ensemble des observations à traiter\n",
    "R = # à compléter\n",
    "\n",
    "print(R)\n",
    "print(np.shape(R))"
   ]
  },
  {
   "cell_type": "code",
   "execution_count": null,
   "id": "fafde613",
   "metadata": {},
   "outputs": [],
   "source": [
    "# En utilisant les fonctions cov et eig, constituer une matrice de passage qui permette de passer \n",
    "# de l'espace de dimension 24 généré par la fonction canaux dans un espace à deux dimensions \n",
    "# correspondant aux deux composantes principales.\n",
    "\n",
    "# COVARIANCE\n",
    "covariance = # à compléter\n",
    "\n",
    "print(covariance)\n",
    "\n",
    "# Valeurs et vecteurs propres\n",
    "Lambda, V = # à compléter\n",
    "\n",
    "print(Lambda)\n",
    "print(V)\n",
    "print(np.shape(V))\n",
    "print(np.shape(Lambda))"
   ]
  },
  {
   "cell_type": "code",
   "execution_count": null,
   "id": "9dc6748a",
   "metadata": {},
   "outputs": [],
   "source": [
    "# Pour cela, \n",
    "# 1 - Rechercher les deux valeurs propres maximales \n",
    "\n",
    "# à compléter"
   ]
  },
  {
   "cell_type": "code",
   "execution_count": null,
   "id": "04dd4ab7",
   "metadata": {},
   "outputs": [],
   "source": [
    "# 2-  Prendre les vercteurs propres correspondants\n",
    "W = # à compléter\n",
    "\n",
    "print(np.shape(W))\n",
    "print(W)"
   ]
  },
  {
   "cell_type": "code",
   "execution_count": null,
   "id": "294ff1e0",
   "metadata": {},
   "outputs": [],
   "source": [
    "# 3-  Projeter R dans ce nouvel espace \n",
    "Rproj = # à compléter\n",
    "\n",
    "aaproj = Rproj[:20,:]\n",
    "print(aaproj)\n",
    "print(np.shape(aaproj))\n",
    "uuproj = Rproj[20:40,:]\n",
    "print(uuproj)\n",
    "print(np.shape(uuproj))\n",
    "iiproj = Rproj[40:,:]\n",
    "print(iiproj)\n",
    "print(np.shape(iiproj))"
   ]
  },
  {
   "cell_type": "code",
   "execution_count": null,
   "id": "3799a2ef",
   "metadata": {},
   "outputs": [],
   "source": [
    "# 4- Affichage\n",
    "# Nuages de points de chacune des classes de sons sur une même figure en les différenciant \n",
    "# par des couleurs ou une forme de tracé de points différentes + légende\n",
    "plt.figure(1)\n",
    "plt.plot(aaproj[:, 0], aaproj[:, 1], 'r*', label=\"A\")\n",
    "plt.plot(uuproj[:, 0], uuproj[:, 1], 'go', label=\"U\")\n",
    "plt.plot(iiproj[:, 0], iiproj[:, 1], 'bx', label=\"I\")\n",
    "plt.legend()\n",
    "plt.show()"
   ]
  },
  {
   "cell_type": "code",
   "execution_count": null,
   "id": "ea096179",
   "metadata": {},
   "outputs": [],
   "source": [
    "# Utilisez les deux vecteurs propres les moins représentatifs pour la matrice de passage, \n",
    "# Que devient la représentation des nuages ? Est-ce qu'une discrimination linéaire est possible ?\n",
    "# Pour cela, \n",
    "# 5- Rechercher les deux valeurs propres minimales\n",
    "\n",
    "# à compléter"
   ]
  },
  {
   "cell_type": "code",
   "execution_count": null,
   "id": "eab41368-a435-45f0-b179-fb449e3dc24e",
   "metadata": {},
   "outputs": [],
   "source": [
    "        ######################################################\n",
    "        ### PARTIE 2 : Classification par lois gaussiennes ###\n",
    "        ######################################################"
   ]
  },
  {
   "cell_type": "code",
   "execution_count": null,
   "id": "8a0324a1-0f72-4091-b132-40142a5c6337",
   "metadata": {},
   "outputs": [],
   "source": [
    "# 1- Charger les données d'apprentissage avec le code suivant :\n",
    "f = open('APP.pkl', 'rb')\n",
    "dicoAPP = pickle.load(f)\n",
    "app_aa = dicoAPP[\"aa\"]\n",
    "app_ii = dicoAPP[\"ii\"]\n",
    "app_uu = dicoAPP[\"uu\"]\n",
    "f.close()\n",
    "\n",
    "# Il s'agit de matrices 80x2 résultant d'une ACP sur une paramétrisation cepstrale (cf. PARTIE 1)\n",
    "print(np.shape(app_aa))\n",
    "print(np.shape(app_ii))\n",
    "print(np.shape(app_uu))"
   ]
  },
  {
   "cell_type": "code",
   "execution_count": null,
   "id": "af8cfeaa-d441-44b4-b444-a71e4ed0e81c",
   "metadata": {},
   "outputs": [],
   "source": [
    "# 2- Afficher sur une seule figure, en utilisant subplot(nb_lignes, nb_colonnes, numero_trace), \n",
    "# l'histogramme de chacune des classes : aa, uu et ii.\n",
    "# à compléter\n",
    "\n",
    "# Que pouvez-vous conclure ? \n",
    "# à compléter"
   ]
  },
  {
   "cell_type": "code",
   "execution_count": null,
   "id": "4d550a6b-1373-487f-bfdb-95d576f0138a",
   "metadata": {},
   "outputs": [],
   "source": [
    "# 3- APPRENTISSAGE : estimer les paramètres (moyenne et matrice de covariance) de chaque classe\n",
    "\n",
    "m_aa = # à compléter\n",
    "c_aa = # à compléter\n",
    "m_uu = # à compléter\n",
    "c_uu = # à compléter\n",
    "m_ii = # à compléter\n",
    "c_ii = # à compléter\n",
    "\n",
    "# Quelles sont les dimensions des variables crées ; que contiennent-elles ? \n",
    "print(m_aa)\n",
    "print(c_aa)\n",
    "print(np.shape(m_aa))\n",
    "print(np.shape(c_aa))"
   ]
  },
  {
   "cell_type": "code",
   "execution_count": null,
   "id": "0b813f3a-3ef6-41a8-b654-e69a056b996a",
   "metadata": {},
   "outputs": [],
   "source": [
    "# 4- RECONNAISSANCE : écrire une fonction classer qui renvoie la classe obtenue \n",
    "# par maximum de vraisemblance sur les lois gaussiennes estimées (modèle de chaque classe) \n",
    "# sur l'observation fournie en entrée :\n",
    "\n",
    "def classer(observation, moyenne_aa, covariance_aa, moyenne_uu, covariance_uu, moyenne_ii, covariance_ii):\n",
    "    \n",
    "    # à compléter\n",
    "\n",
    "    return(no_classe)\n",
    "\n"
   ]
  },
  {
   "cell_type": "code",
   "execution_count": null,
   "id": "f3aa2c73-d65a-49b2-bc88-2ada59b8476e",
   "metadata": {},
   "outputs": [],
   "source": [
    "# 5- Des observations à tester sont présentes dans le fichier Pickle suivant : TST.pkl\n",
    "# Charger ces données de tests comme  pour les données d'apprentissage)\n",
    "ft = open('TST.pkl', 'rb')\n",
    "dicoTST = pickle.load(ft)\n",
    "tst_aa = dicoTST[\"aa\"]\n",
    "tst_ii = dicoTST[\"ii\"]\n",
    "tst_uu = dicoTST[\"uu\"]\n",
    "ft.close()\n",
    "\n",
    "# Vérifier leurs dimensions\n",
    "# à compléter"
   ]
  },
  {
   "cell_type": "code",
   "execution_count": null,
   "id": "376c68fb-5253-4b20-95e8-db4c10b1467e",
   "metadata": {},
   "outputs": [],
   "source": [
    "# Exemple de résultat : \n",
    "# classe = classer(tst_aa[0,:], m_aa, c_aa, m_uu, c_uu, m_ii, c_ii)\n",
    "# => no_classe = 1\n",
    "\n",
    "# A tester pour vérifier votre fonction \"classer\" !"
   ]
  },
  {
   "cell_type": "code",
   "execution_count": null,
   "id": "6d33792b-0448-425d-a715-b6237f9c38b8",
   "metadata": {},
   "outputs": [],
   "source": [
    "# 6- Définir la fonction tout_tester qui effectue tous les tests de classification \n",
    "\n",
    "def tout_tester(tst_aa, tst_uu, tst_ii, m_aa, c_aa, m_uu, c_uu, m_ii, c_ii):\n",
    "    matrice_confusion = np.zeros((3,3))\n",
    "    \n",
    "    # à compléter\n",
    "    \n",
    "    taux_reco = # à compléter\n",
    "    \n",
    "    return(matrice_confusion, taux_reco)\n",
    "    "
   ]
  },
  {
   "cell_type": "code",
   "execution_count": null,
   "id": "c8849abc-7df8-46c4-8fe7-166562f3794c",
   "metadata": {},
   "outputs": [],
   "source": [
    "# 7- Réaliser les tests et afficher la matrice de confusion et le taux de bonne reconnaisance correspondant \n",
    "mat_conf, score = tout_tester(tst_aa, tst_uu, tst_ii, m_aa, c_aa, m_uu, c_uu, m_ii, c_ii)\n",
    "print(mat_conf)\n",
    "print(score)\n",
    "\n",
    "# Commenter les résultats obtenus\n",
    "# à compléter "
   ]
  }
 ],
 "metadata": {
  "kernelspec": {
   "display_name": "Python 3 (ipykernel)",
   "language": "python",
   "name": "python3"
  },
  "language_info": {
   "codemirror_mode": {
    "name": "ipython",
    "version": 3
   },
   "file_extension": ".py",
   "mimetype": "text/x-python",
   "name": "python",
   "nbconvert_exporter": "python",
   "pygments_lexer": "ipython3",
   "version": "3.12.1"
  }
 },
 "nbformat": 4,
 "nbformat_minor": 5
}
