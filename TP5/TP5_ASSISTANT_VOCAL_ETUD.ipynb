{
 "cells": [
  {
   "cell_type": "markdown",
   "id": "5adc2e24",
   "metadata": {},
   "source": [
    "# TP 5 :  ASSISTANT VOCAL "
   ]
  },
  {
   "cell_type": "raw",
   "id": "c233f679",
   "metadata": {},
   "source": [
    "NOM - PRENOM : \n",
    "Déposer le notebook sur moodle en fin de séance et une archive avec vos grammaires et fichiers de test et fichiers résultats"
   ]
  },
  {
   "cell_type": "markdown",
   "id": "ad83811f",
   "metadata": {},
   "source": [
    "## Environnement de travail\n",
    "\n",
    "Travailler sous la machine virtuelle dédiée aux TP de PAROLE et activer l'environnement conda dédié au TP_TAP_SRI2\n",
    "\n",
    "    conda info -e : pour connaitre les environnement disponibles si besoin\n",
    "\n",
    "Exécuter les deux cellules suivantes après avoir modifié le chemin d'accès à la grammaire \n"
   ]
  },
  {
   "cell_type": "code",
   "execution_count": null,
   "id": "4e2832d5",
   "metadata": {},
   "outputs": [],
   "source": [
    "import nltk\n",
    "from nltk import *\n",
    "from nltk import load_parser\n",
    "import os\n",
    "from os import *\n",
    "import string\n",
    "\n",
    "# PATH = 'chemin vers votre dossier de TP'\n",
    "PATH = '/Users/ferrane/Documents/ENSEIGNEMENT/SRI-2A/COURS_TAP/COURS_TAP_2023_2024/TP_TAP_2024/TP5_GRAMMAIRE/'\n",
    "chdir(PATH + 'TP5_ASSISTANT_VOCAL/TP5_ASSISTANT_VOCAL_CORRECTION')\n"
   ]
  },
  {
   "cell_type": "code",
   "execution_count": null,
   "id": "21ffc3bf",
   "metadata": {
    "scrolled": true
   },
   "outputs": [],
   "source": [
    "!pwd; ls"
   ]
  },
  {
   "cell_type": "markdown",
   "id": "5e559527",
   "metadata": {},
   "source": [
    "## PARTIE 1 : Grammaire, Analyseur, Chaine à traiter et Résultats\n"
   ]
  },
  {
   "cell_type": "markdown",
   "id": "b3dbddeb",
   "metadata": {},
   "source": [
    "### Question 1 : prise en main du fonctionnement d'un analyseur \n",
    "\n",
    "Exécuter chacune des cellules suivantes et répondre aux questions dans des zones de texte dédiées\n",
    "       "
   ]
  },
  {
   "cell_type": "code",
   "execution_count": null,
   "id": "68f79695",
   "metadata": {},
   "outputs": [],
   "source": [
    "# CELLULE 1\n",
    "# Chargement de la grammaire\n",
    "nom_fichier_grammaire_V1 = 'GRAMMAIRE_ASSISTANT_V1.fcfg'\n",
    "# Visualisation du contenu de la grammaire\n",
    "data.show_cfg(nom_fichier_grammaire_V1)"
   ]
  },
  {
   "cell_type": "markdown",
   "id": "b9f21307",
   "metadata": {},
   "source": [
    "1.1) Quel langage décrit la grammaire contenue dans le fichier GRAMMAIRE_ASSISTANT_V1.fcfg\n",
    "       "
   ]
  },
  {
   "cell_type": "code",
   "execution_count": null,
   "id": "fd05b9dc",
   "metadata": {},
   "outputs": [],
   "source": [
    "# CELLULE 2\n",
    "# Création d'un analyseur basé sur la grammaire chargée\n",
    "# version avec un niveau de trace détaillé\n",
    "\n",
    "analyseur_V1 = parse.load_parser(nom_fichier_grammaire_V1, trace=2)\n",
    "\n",
    "# ATTENTION MEME SI ON RELANCE LA CELLULE, LES MODIFS FAITES SUR LA GRAMMAIRE PEUVENT NE PAS ETRE PRISES EN COMPTE\n",
    "# IL FAUT RELANCER LE NOYAU en attendant mieux. \n",
    "\n",
    "# POUR AFFICHER SANS LE NIVEAU DE TRACE DETAILLE \n",
    "# analyseur_notrace = parse.load_parser(nom_fichier_grammaire)"
   ]
  },
  {
   "cell_type": "raw",
   "id": "8f74309a",
   "metadata": {},
   "source": [
    "1.2) Quel est le rôle de l'analyseur créé ? "
   ]
  },
  {
   "cell_type": "code",
   "execution_count": null,
   "id": "35d5ae81",
   "metadata": {},
   "outputs": [],
   "source": [
    "# CELLULE 3 = Fonction de test d'un ensemble d'exemples\n",
    "\n",
    "def tester_par_lot(Dico_test, analyseur): \n",
    "    resultat_analyse_lot = {}\n",
    "    \n",
    "    for k in Dico_test.keys():\n",
    "        print(k)\n",
    "        tokens = Dico_test[k].split()\n",
    "        print(tokens)\n",
    "        #Transformation de la chaine à traiter en liste de tokens\n",
    "        #resultat_analyse_lot[k] = analyseur_V1.parse(tokens)\n",
    "        resultat_analyse_lot[k] = analyseur.parse(tokens)\n",
    "        #print(resultat_analyse_lot[k])\n",
    "        print(\"=========================================\\n\")\n",
    "    \n",
    "    return resultat_analyse_lot\n",
    "    "
   ]
  },
  {
   "cell_type": "raw",
   "id": "69290883",
   "metadata": {},
   "source": [
    "1.3) Quelles sont les entrées-sortie de la fonction tester_par_lot ? \n"
   ]
  },
  {
   "cell_type": "code",
   "execution_count": null,
   "id": "a600db71",
   "metadata": {},
   "outputs": [],
   "source": [
    "# CELLULE 4\n",
    "\n",
    "exemple_test_G1 = { 'exemple1' : 'cinq plus trois', 'exemple2' : 'six moins deux'}\n",
    "    \n",
    "resultat_test_G1 = tester_par_lot(exemple_test_G1, analyseur_V1)\n"
   ]
  },
  {
   "cell_type": "raw",
   "id": "11111149",
   "metadata": {},
   "source": [
    "1.4) Commenter de manière détaillée un des deux résultats obtenus"
   ]
  },
  {
   "cell_type": "markdown",
   "id": "ecf8c643",
   "metadata": {},
   "source": [
    "### QUESTION 2  : Evolution de la grammaire - flexibilité du langage\n",
    "\n",
    "    a) Faire une copie de la grammaire dans le fichier GRAMMAIRE_ASSISTANT_V2.fcfg \n",
    "    \n",
    "    b) modifier cette version de façon à prendre en compte : \n",
    "            - des chaines comme '5 + 3' ou '5 moins sept' \n",
    "            - d'autres nombres 'trente', 'quinze', ...\n",
    "            - et d'autres opérateurs binaires : divisé par (/), multiplié par (*), fois (*), puissance (^) ... \n",
    "            \n",
    "       --> Pour simplifier on considèrera les opérateurs composés comme un seul mot en remplaçant ' ' par '_'\n",
    "       'multiplié_par', 'divisé_par'\n"
   ]
  },
  {
   "cell_type": "raw",
   "id": "a9b56a1f",
   "metadata": {},
   "source": [
    "2.1) Exécuter les trois cellules suivantes pour tester cette version de la grammaire et le fonctionnement de \n",
    " l'analyseur correspondant."
   ]
  },
  {
   "cell_type": "code",
   "execution_count": null,
   "id": "704fa8a8",
   "metadata": {},
   "outputs": [],
   "source": [
    "# CELLULE 1 = CHARGEMENT GRAMMAIRE G2\n",
    "\n",
    "# Chargement de la deuxième version de la grammaire\n",
    "nom_fichier_grammaire_V2 = 'GRAMMAIRE_ASSISTANT_V2.fcfg'\n",
    "# Visualisation du contenu de la grammaire\n",
    "data.show_cfg(nom_fichier_grammaire_V2)\n"
   ]
  },
  {
   "cell_type": "code",
   "execution_count": null,
   "id": "4f01a32a",
   "metadata": {},
   "outputs": [],
   "source": [
    "# CELLULE 2 = Création d'un analyseur basé sur la grammaire G2\n",
    "# version avec un niveau de trace détaillé\n",
    "\n",
    "analyseur_V2 = parse.load_parser(nom_fichier_grammaire_V2, trace=2)\n",
    "\n",
    "# ATTENTION MEME SI ON RELANCE LA CELLULE, LES MODIFS FAITES SUR LA GRAMMAIRE PEUVENT NE PAS ETRE PRISES EN COMPTE\n",
    "# IL FAUT RELANCER LE NOYAU en attendant mieux. \n",
    "\n",
    "# version sans niveau de trace\n",
    "#analyseur_notrace = parse.load_parser(nom_fichier_grammaire)\n"
   ]
  },
  {
   "cell_type": "code",
   "execution_count": null,
   "id": "613b1836",
   "metadata": {},
   "outputs": [],
   "source": [
    "# CELLULE 3 = Test sur des exemples spécifiques \n",
    "\n",
    "exemple_test_G2 = { 'exemple1' : '5 + 3', 'exemple2' : '6 - 2', 'exemple3' : '3 + sept', \n",
    "                    'exemple4' : 'cinq fois trois', 'exemple5' : 'neuf divisé_par trois',\n",
    "                    'exemple6': 'vingt puissance trois'}\n",
    "\n",
    "resultat_test_G2 = tester_par_lot(exemple_test_G2, analyseur_V2)\n",
    "\n"
   ]
  },
  {
   "cell_type": "raw",
   "id": "49ea3f45",
   "metadata": {},
   "source": [
    "2.2) Verifier les résultats correspondant à chacune des phrase. Quel résultat obtient-on sans le mode trace ? "
   ]
  },
  {
   "cell_type": "code",
   "execution_count": null,
   "id": "8e2d5bf8",
   "metadata": {},
   "outputs": [],
   "source": [
    "analyseur_V2_no_trace = parse.load_parser(nom_fichier_grammaire_V2)\n",
    "resultat_test_G2 = tester_par_lot(exemple_test_G2, analyseur_V2_no_trace)\n"
   ]
  },
  {
   "cell_type": "markdown",
   "id": "f8270956",
   "metadata": {},
   "source": [
    "### QUESTION 3  : Aspect multi-tâche \n",
    "\n",
    "    a) Faire une copie de la grammaire G2 dans le fichier GRAMMAIRE_ASSISTANT_V3.fcfg \n",
    "    \n",
    "    b) modifier cette version de façon à prendre aussi en compte une nouvelle tâche comme :\n",
    "        - 'appelle le 0 5 6 7 8' \n",
    "        - 'envoie un sms au 0 5 6 7 8' \n",
    "        - 'appelle Paul'\n",
    "        - 'envoie un texto à Polo'\n",
    "        \n",
    "         --> Pour simplifier on considèrera les commandes composées comme un seul mot en remplaçant ' ' par '_'\n",
    "         'appelle_le', 'envoie_un_sms_à', ... \n"
   ]
  },
  {
   "cell_type": "raw",
   "id": "6f9d6e2a",
   "metadata": {},
   "source": [
    "3.1) Exécuter les cellules suivantes pour tester cette version de la grammaire et le fonctionnement de \n",
    "    l'analyseur correspondant. "
   ]
  },
  {
   "cell_type": "code",
   "execution_count": null,
   "id": "0ca510f9",
   "metadata": {},
   "outputs": [],
   "source": [
    "# CELLULE 1 = Chargement de la grammaire G3\n",
    "\n",
    "nom_fichier_grammaire_V3 = 'GRAMMAIRE_ASSISTANT_V3.fcfg'\n",
    "# Visualisation du contenu de la grammaire\n",
    "data.show_cfg(nom_fichier_grammaire_V3)"
   ]
  },
  {
   "cell_type": "code",
   "execution_count": null,
   "id": "1051d532",
   "metadata": {},
   "outputs": [],
   "source": [
    "# CELLULE 2 = Création d'un analyseur basé sur la grammaire G3\n",
    "\n",
    "#analyseur_V3 = parse.load_parser(nom_fichier_grammaire_V3, trace=2)\n",
    "\n",
    "# ATTENTION MEME SI ON RELANCE LA CELLULE, LES MODIFS FAITES SUR LA GRAMMAIRE PEUVENT NE PAS ETRE PRISES EN COMPTE\n",
    "# IL FAUT RELANCER LE NOYAU en attendant mieux. \n",
    "\n",
    "# version sans niveau de trace\n",
    "analyseur_V3 = parse.load_parser(nom_fichier_grammaire_V3)\n"
   ]
  },
  {
   "cell_type": "code",
   "execution_count": null,
   "id": "af0092ec",
   "metadata": {},
   "outputs": [],
   "source": [
    "def extraire_interpretation(arbre):\n",
    "    tmp= str(arbre[0])\n",
    "    racine = tmp.split('\\n')\n",
    "    interpretation = racine[0]+')'\n",
    "    # print(type(interpretation))\n",
    "    print('interpretation = ', interpretation)\n",
    "    \n",
    "    indice = interpretation.find('=')\n",
    "    # print('indice = ', indice)\n",
    "        \n",
    "    chaine_a_interpreter = interpretation[indice+2:len(interpretation) -3]\n",
    "    print('chaine_a_interpreter = ', chaine_a_interpreter)\n",
    "    \n",
    "    return chaine_a_interpreter"
   ]
  },
  {
   "cell_type": "raw",
   "id": "8d5e21df",
   "metadata": {},
   "source": [
    "3.2) Quelles sont les entrées-sorties de la fonction extraire_interprétation ainsi que son rôle ? "
   ]
  },
  {
   "cell_type": "code",
   "execution_count": null,
   "id": "74689b0d",
   "metadata": {},
   "outputs": [],
   "source": [
    "def calculer(operation):\n",
    "    resultat = eval(operation)\n",
    "    print('resultat = ', operation, ' = ', resultat )\n",
    "    return resultat"
   ]
  },
  {
   "cell_type": "raw",
   "id": "9803c614",
   "metadata": {},
   "source": [
    "3.3) Quelles sont les entrées-sorties de la fonction calculer ainsi que son rôle ? Tester au besoin"
   ]
  },
  {
   "cell_type": "code",
   "execution_count": null,
   "id": "08daf6ca",
   "metadata": {
    "scrolled": false
   },
   "outputs": [],
   "source": [
    "# CELLULE 3 = Test sur exemples spécifiques \n",
    "\n",
    "exemple_test_G3 = { 'exemple1' : '5 + 3', 'exemple2' : 'six moins deux', 'exemple3' : '0 1 2 3 4', \n",
    "                    'exemple4': '1 2 3 4 5', 'exemple5' : 'envoie_un_sms_au 0 1 2 3 4', \n",
    "                    'exemple6': 'appelle_le 1 2 3 4 5', 'exemple7':'vingt divisé_par quatre', \n",
    "                    'exemple8' : 'appelle_le cinq fois trois', 'exemple9':'cinq plus trois plus dix moins trois',\n",
    "                    'exemple10':'appelle Polo', 'exemple11': 'vingt puissance deux'}\n",
    "\n",
    "resultat_test_G3 = tester_par_lot(exemple_test_G3, analyseur_V3)\n",
    "# print(resultat_test_G3)\n",
    "\n",
    "for k in resultat_test_G3.keys():\n",
    "    for arbre in resultat_test_G3[k] : \n",
    "        #print(arbre)\n",
    "        print(\"-------------------\")\n",
    "\n",
    "        chaine_a_interpreter = extraire_interpretation(arbre)\n",
    "        print(chaine_a_interpreter)\n",
    "        \n",
    "        tache = chaine_a_interpreter.split(\", \")\n",
    "        commande = tache[0]\n",
    "        info = ' '.join(tache[1:])\n",
    "        \n",
    "        if commande == 'compute': \n",
    "            resultat = calculer(info)\n",
    "            print(\"resultat = \", resultat )\n",
    "        else: \n",
    "            if commande == 'callNumber':\n",
    "                print('Nous appelons le numéro : ', info)\n",
    "            else: \n",
    "                if commande == 'callPerson':\n",
    "                    print('Nous appelons ', info)\n",
    "                else:\n",
    "                    if commande == 'sendTexto':\n",
    "                        print('vous voulez envoyer un texto au ', info)\n",
    "                    else: \n",
    "                        print('je n\\'ai pas compris votre requête')\n",
    "                \n",
    "\n",
    "        print(\"..................................\\n\\n\\n\")\n",
    "    \n",
    "        print(\"=================================================================\\n\")\n"
   ]
  },
  {
   "cell_type": "raw",
   "id": "f62934a4",
   "metadata": {},
   "source": [
    "3.4) Commenter de manière détaillée les résultats obtenus"
   ]
  },
  {
   "cell_type": "markdown",
   "id": "01914d47",
   "metadata": {},
   "source": [
    "## PARTIE 4 : Reconnaissance de la parole et normalisation des transcriptions\n",
    "\n",
    "S'assurer que les librairies speechrecognition, gtts et pyaudio ont été installées dans l'environnement conda de TP. Les installer au besoin dans ce même environnement (TP_TAP_SRI2)\n",
    "\n",
    "    cond list pour avoir la liste de toutes les dépendances installées dans l'environnement.  \n",
    "\n",
    "    https://pypi.org/project/SpeechRecognition/  : pip install SpeechRecognition\n",
    "    \n",
    "    https://pypi.org/project/gTTS/ :  pip install gTTS\n",
    "    \n",
    "    https://pypi.org/project/PyAudio/  : pip install PyAudio\n"
   ]
  },
  {
   "cell_type": "raw",
   "id": "9eadefd9",
   "metadata": {},
   "source": [
    "4.1) Utiliser un outil de reconnaissance exitant (outils \"sur étagère\"). Exécuter la cellule suivante plusieurs fois et faire un compte rendu des différents tests effectués dans une zone de texte dédiée. "
   ]
  },
  {
   "cell_type": "code",
   "execution_count": null,
   "id": "791c75ba",
   "metadata": {},
   "outputs": [],
   "source": [
    "import speech_recognition as sr\n",
    "import pyaudio\n",
    "from gtts import gTTS\n",
    "\n",
    "r = sr.Recognizer()\n",
    "\n",
    "micro = sr.Microphone()\n",
    "\n",
    "with micro as source:\n",
    "    print(\"Speak!\")\n",
    "    audio_data = r.listen(source)\n",
    "    print(\"End!\")\n",
    "result = r.recognize_google(audio_data, language=\"fr-FR\")\n",
    "\n",
    "# pour une reconnaissance de la parole en anglais\n",
    "# result = r.recognize_google(audio_data, language=\"en-EN\")\n",
    "\n",
    "print (\"Vous avez dit : \", result)"
   ]
  },
  {
   "cell_type": "raw",
   "id": "a802f96b",
   "metadata": {},
   "source": [
    "4.2) Compte-rendu de vos tests \n",
    "\n",
    "===\n",
    "\n",
    "Exemple de commentaires \n",
    "\n",
    "Enoncé = appele le zéro trois quatre cinq six \n",
    "Speak!\n",
    "End!\n",
    "Vous avez dit :  appelle le 03456\n",
    "--> résultat correct ou erreur constatée : omission / substitution / insertion préciser\n",
    "    ici 7 mots bien reconnus = 0 erreur\n",
    "    \n",
    "==="
   ]
  },
  {
   "cell_type": "code",
   "execution_count": null,
   "id": "79020b5d",
   "metadata": {},
   "outputs": [],
   "source": [
    "def normaliser_transcription(transcription): \n",
    "    \n",
    "    if \"appelle le\" in transcription: \n",
    "        result = transcription.replace(\"appelle le\", \"appelle_le\")\n",
    "    elif \"envoie un sms à\" in transcription: \n",
    "        result = transcription.replace(\"envoie un sms à\", \"envoie_un_sms_à\")\n",
    "    else : \n",
    "        # pas de modification apportée\n",
    "        result = transcription\n",
    "    \n",
    "    # transformation de la chaine en tokens \n",
    "    chaine_tokenisee = result.split()\n",
    "    # print(chaine_tokenisee)\n",
    "    \n",
    "    # cas du numéro de téléphone supposé en fin de chaine\n",
    "    last = len(chaine_tokenisee)\n",
    "    numero = chaine_tokenisee[last-1]\n",
    "    print(numero, type(numero))\n",
    "    \n",
    "    if numero.isdigit() : \n",
    "        chaine_tokenisee.pop() \n",
    "        # print('après pop', chaine_tokenisee)\n",
    "        phone =''\n",
    "        for c in numero : \n",
    "            phone = phone + c + ' '\n",
    "            chaine_tokenisee.append(c)\n",
    "        # print('phone', phone)\n",
    "        # print('chaine', chaine_tokenisee)\n",
    "\n",
    "    return chaine_tokenisee "
   ]
  },
  {
   "cell_type": "raw",
   "id": "e8307cb7",
   "metadata": {},
   "source": [
    "4.3)  Quelles sont les entrées-sorties de la fonction normaliser_transcription ? "
   ]
  },
  {
   "cell_type": "markdown",
   "id": "0a1f40d7",
   "metadata": {},
   "source": [
    "4.4) Tester cette fonction, proposer d'autres exemples de test. Apporter les modifications nécéssaires selon les besoins de l'assistant vocal (cf. Partie 5). Reporter les résultats de vos tests dans une zone de texte dédiée. "
   ]
  },
  {
   "cell_type": "code",
   "execution_count": null,
   "id": "ac1bb749",
   "metadata": {},
   "outputs": [],
   "source": [
    "print(normaliser_transcription('appelle le 03456'))\n",
    "print(normaliser_transcription('envoie un sms à Paul'))"
   ]
  },
  {
   "cell_type": "markdown",
   "id": "0361bb83",
   "metadata": {},
   "source": [
    "## PARTIE 5  : Assitant vocal complet = Reconnaissance + Interprétation + Synthèse\n",
    "\n",
    "    a) Etudier les fonctions mises à votre disposition pur bien comprendre leur rôle\n",
    "    \n",
    "    b) Tester l'assistant vocal CELLULE ASSISTANT VOCAL et faire un rapport de test dans une zone de texte dédiée. \n",
    "       \n",
    "    c) Rectifier au besoin la grammaire G3 si vous avez oublié des cas et améliorer la fonction \n",
    "       normaliser_transcription si nécessaire pour que ce soit compatible avec la grammaire écrite : \n",
    "       \n",
    "           (reco) envoie un sms à --> envoie_un_sms_à (simplification des règles)\n",
    "           (reco) 06453 --> 0 6 4 5 3 \n"
   ]
  },
  {
   "cell_type": "code",
   "execution_count": null,
   "id": "eb68b7cd",
   "metadata": {},
   "outputs": [],
   "source": [
    "#Analyse de la phrase à traiter (supposer être le résultat du processus de reconnaissance de la parole TP5)\n",
    "def interpreter_commande(commande, analyseur) : \n",
    "    \n",
    "    #Transformation de la chaine à traiter en liste de tokens - A décommenter si besoin \n",
    "    #tokens = commande.split()\n",
    "    #print(tokens)\n",
    "    \n",
    "    resultat_analyse = analyseur.parse(commande)\n",
    "    print(resultat_analyse)\n",
    "    \n",
    "    for arbre in resultat_analyse : \n",
    "        chaine_a_interpreter = extraire_interpretation(arbre)\n",
    "        tache = chaine_a_interpreter.split(\", \")\n",
    "        commande = tache[0]\n",
    "        info = ' '.join(tache[1:])   \n",
    "        if commande == 'compute': \n",
    "            resultat = calculer(info)\n",
    "            message = 'le résultat de votre opération est égal à ' + str(resultat)\n",
    "        else: \n",
    "            if commande == 'callNumber':\n",
    "                message = 'OK, j\\'appelle le : ' + str(info)\n",
    "            else: \n",
    "                if commande == 'sendTexto':\n",
    "                    message= 'Vous voulez envoyer un message au '+ str(info)+'Quel est le texte du message à envoyer ?'\n",
    "                else: \n",
    "                    if commande =='callPerson':\n",
    "                        message= 'Nous appelons '+ str(info)\n",
    "                    else: message = 'Je n\\'ai pas compris votre requête'\n",
    "                                 \n",
    "    return message\n"
   ]
  },
  {
   "cell_type": "raw",
   "id": "f94d6c15",
   "metadata": {},
   "source": [
    "5.1) Quelles sont les entrées-sorties de la fonction interpreter_commande ainsi que son rôle ?"
   ]
  },
  {
   "cell_type": "code",
   "execution_count": null,
   "id": "d95ecef0",
   "metadata": {},
   "outputs": [],
   "source": [
    "def text_to_speech(text):\n",
    "    # Initialize gTTS with the text to convert\n",
    "    speech = gTTS(text, lang=\"fr\", slow=False)\n",
    "\n",
    "    # Save the audio file to a temporary file\n",
    "    speech_file = 'speech.mp3'\n",
    "    speech.save(speech_file)\n",
    "\n",
    "    # Play the audio file\n",
    "    os.system('afplay ' + speech_file)"
   ]
  },
  {
   "cell_type": "raw",
   "id": "0201e464",
   "metadata": {},
   "source": [
    "5.2) Quelles sont les entrées-sorties de la fonction text_to_speech ainsi que son rôle ? Tester au besoin"
   ]
  },
  {
   "cell_type": "raw",
   "id": "535cfd63",
   "metadata": {},
   "source": [
    "5.3) Tester de manière exhaustive l'assistant vocal ci-après"
   ]
  },
  {
   "cell_type": "code",
   "execution_count": null,
   "id": "da9ebc8e",
   "metadata": {},
   "outputs": [],
   "source": [
    "## CELLULE ASSISTANT VOCAL \n",
    "\n",
    "import speech_recognition as sr\n",
    "import pyaudio\n",
    "from gtts import gTTS\n",
    "\n",
    "r = sr.Recognizer()\n",
    "\n",
    "micro = sr.Microphone()\n",
    "\n",
    "with micro as source:\n",
    "    print(\"Speak!\")\n",
    "    audio_data = r.listen(source)\n",
    "    print(\"End!\")\n",
    "transcription = r.recognize_google(audio_data, language=\"fr-FR\")\n",
    "\n",
    "# pour une reconnaissance de la parole en anglais\n",
    "#result = r.recognize_google(audio_data, language=\"en-EN\")\n",
    "\n",
    "print (\"Vous avez dit : \", transcription)\n",
    "\n",
    "transcription_normalisee = normaliser_transcription(transcription)\n",
    "print(transcription_normalisee)\n",
    "\n",
    "message_reponse = interpreter_commande(transcription_normalisee, analyseur_V3)\n",
    "\n",
    "#repondre_vocal(transcription_operation, resultat )\n",
    "text_to_speech(message_reponse)\n"
   ]
  },
  {
   "cell_type": "raw",
   "id": "6fca4fc7",
   "metadata": {},
   "source": [
    "5.4) Faire un rapport des résultats \n",
    "\n",
    "Exemple de résultat \n",
    "===\n",
    "Enoncé : appele Paul\n",
    "Speak!\n",
    "End!\n",
    "\n",
    "Vous avez dit :  appelle Paul\n",
    "['appelle', 'Paul']\n",
    "<generator object FeatureChart.parses at 0x7f85dc1dd270>\n",
    "interpretation =  (CONTACTER[INTERP=(callPerson, Paul)])\n",
    "chaine_a_interpreter =  callPerson, Paul\n",
    "===\n",
    "\n"
   ]
  },
  {
   "cell_type": "markdown",
   "id": "860c46c1",
   "metadata": {},
   "source": [
    "## RENDU : \n",
    "\n",
    "DEPOSER LE NOTEBOOK A VOTRE NOM SUR MOODLE (.ipynb et version pdf) AINSI QUE, SUIVANT LE CAS, LES FICHIERS AUDIO CORRESPONDANT AUX TESTS DE L'ASSISTANT EFFECTUÉS (dans une archive). \n"
   ]
  }
 ],
 "metadata": {
  "kernelspec": {
   "display_name": "Python 3 (ipykernel)",
   "language": "python",
   "name": "python3"
  },
  "language_info": {
   "codemirror_mode": {
    "name": "ipython",
    "version": 3
   },
   "file_extension": ".py",
   "mimetype": "text/x-python",
   "name": "python",
   "nbconvert_exporter": "python",
   "pygments_lexer": "ipython3",
   "version": "3.8.12"
  }
 },
 "nbformat": 4,
 "nbformat_minor": 5
}
